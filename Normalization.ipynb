{
 "cells": [
  {
   "cell_type": "code",
   "execution_count": 15,
   "id": "22ac72ed-64f6-4d9e-b825-470e3e71fc96",
   "metadata": {},
   "outputs": [],
   "source": [
    "import numpy as np"
   ]
  },
  {
   "cell_type": "code",
   "execution_count": 17,
   "id": "7df86794-c53a-49a6-ad1d-53a0b4796c6d",
   "metadata": {},
   "outputs": [],
   "source": [
    "def normalize(x):\n",
    "    a = x.std()\n",
    "    b = x.mean()\n",
    "    z = x-b/a\n",
    "    return z"
   ]
  },
  {
   "cell_type": "code",
   "execution_count": 19,
   "id": "7033ed5f-d452-4a24-81b2-408951ef0f0e",
   "metadata": {},
   "outputs": [
    {
     "data": {
      "text/plain": [
       "array([[0.04737942, 0.34596727, 0.97595246, 0.30692033, 0.89854362],\n",
       "       [0.62113428, 0.2663641 , 0.67874091, 0.73118754, 0.67105294],\n",
       "       [0.12692789, 0.37452148, 0.74964501, 0.47188613, 0.38531168],\n",
       "       [0.11871023, 0.92416689, 0.21504281, 0.88777259, 0.98703411],\n",
       "       [0.27982175, 0.16362243, 0.44505019, 0.94756094, 0.57150943]])"
      ]
     },
     "execution_count": 19,
     "metadata": {},
     "output_type": "execute_result"
    }
   ],
   "source": [
    "x = np.random.random((5, 5))\n",
    "x"
   ]
  },
  {
   "cell_type": "code",
   "execution_count": 21,
   "id": "c9ca2938-fa44-480e-b2bc-a924d5d066d6",
   "metadata": {},
   "outputs": [
    {
     "data": {
      "text/plain": [
       "array([[-1.72683751, -1.42824966, -0.79826447, -1.4672966 , -0.8756733 ],\n",
       "       [-1.15308264, -1.50785283, -1.09547602, -1.04302938, -1.10316399],\n",
       "       [-1.64728903, -1.39969545, -1.02457192, -1.3023308 , -1.38890525],\n",
       "       [-1.65550669, -0.85005004, -1.55917411, -0.88644434, -0.78718281],\n",
       "       [-1.49439517, -1.61059449, -1.32916674, -0.82665598, -1.2027075 ]])"
      ]
     },
     "execution_count": 21,
     "metadata": {},
     "output_type": "execute_result"
    }
   ],
   "source": [
    "s = normalize(x)\n",
    "s"
   ]
  },
  {
   "cell_type": "code",
   "execution_count": 23,
   "id": "0c29af28-493b-4bee-a954-6e0564772168",
   "metadata": {},
   "outputs": [],
   "source": [
    "np.save('X_normalize.npy', s)"
   ]
  },
  {
   "cell_type": "code",
   "execution_count": 25,
   "id": "8b5a5013-a976-438c-953d-4ca2acd50d88",
   "metadata": {},
   "outputs": [
    {
     "data": {
      "text/plain": [
       "array([[-1.72683751, -1.42824966, -0.79826447, -1.4672966 , -0.8756733 ],\n",
       "       [-1.15308264, -1.50785283, -1.09547602, -1.04302938, -1.10316399],\n",
       "       [-1.64728903, -1.39969545, -1.02457192, -1.3023308 , -1.38890525],\n",
       "       [-1.65550669, -0.85005004, -1.55917411, -0.88644434, -0.78718281],\n",
       "       [-1.49439517, -1.61059449, -1.32916674, -0.82665598, -1.2027075 ]])"
      ]
     },
     "execution_count": 25,
     "metadata": {},
     "output_type": "execute_result"
    }
   ],
   "source": [
    "f = np.load('X_normalize.npy')\n",
    "f"
   ]
  },
  {
   "cell_type": "code",
   "execution_count": null,
   "id": "cc6d1602-5668-4269-a001-897623d600ed",
   "metadata": {},
   "outputs": [],
   "source": []
  }
 ],
 "metadata": {
  "kernelspec": {
   "display_name": "Python 3 (ipykernel)",
   "language": "python",
   "name": "python3"
  },
  "language_info": {
   "codemirror_mode": {
    "name": "ipython",
    "version": 3
   },
   "file_extension": ".py",
   "mimetype": "text/x-python",
   "name": "python",
   "nbconvert_exporter": "python",
   "pygments_lexer": "ipython3",
   "version": "3.12.4"
  }
 },
 "nbformat": 4,
 "nbformat_minor": 5
}
